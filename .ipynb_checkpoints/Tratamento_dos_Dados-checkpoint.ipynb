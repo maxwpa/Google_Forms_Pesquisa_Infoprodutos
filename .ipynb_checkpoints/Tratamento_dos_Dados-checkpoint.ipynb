{
 "cells": [
  {
   "cell_type": "code",
   "execution_count": 1,
   "id": "3fa7b34d",
   "metadata": {},
   "outputs": [],
   "source": [
    "import pandas as pd"
   ]
  },
  {
   "cell_type": "code",
   "execution_count": 4,
   "id": "bc295146",
   "metadata": {},
   "outputs": [],
   "source": [
    "df = pd.read_excel('Pesquisa Infoprodutos.xlsx')"
   ]
  },
  {
   "cell_type": "code",
   "execution_count": 5,
   "id": "bc11b504",
   "metadata": {},
   "outputs": [
    {
     "data": {
      "text/plain": [
       "Index(['Carimbo de data/hora', '01- Gênero', '02- Idade',\n",
       "       '03 - Qual é o seu nível de escolaridade mais alto?',\n",
       "       '04- Estado Civil', '05- Qual é a sua renda individual mensal?  ',\n",
       "       '06- Com qual frequência você consume produtos digitais\\n(e-books, cursos online, webinars, etc.)?',\n",
       "       '07- Um curso com mentoria melhora a experiência e a utilização do infoproduto?',\n",
       "       '08 - Cursos com meta trazem a sensação de progresso e isso diminui a chance de abandonar o curso.',\n",
       "       '09 - Disponibilizar um infoproduto em uma variedade de formatos, como eBooks, vídeos, podcasts ou cursos, contribuiria para a melhoria da experiência do usuário.',\n",
       "       '10- Sua primeira compra foi:',\n",
       "       '11- Quais formatos de infoprodutos você mais consome?',\n",
       "       ' 12- Qual a área do infoprodutos que você mais consome?  ',\n",
       "       '13- Quais os motivos que te levaram a comprar?  (Marque todas as opções que se aplicam)   ',\n",
       "       '14- Quão satisfeito você ficou com o retorno obtido com a compra de infoprodutos?   ',\n",
       "       '15- Qual é o valor máximo que você estaria disposto a pagar por um infoproduto?',\n",
       "       '16- Qual a sua percepção após a experiência adquirida com o produto?',\n",
       "       '17- Eu definitivamente indicaria esse produto a alguém.',\n",
       "       '18- O que mais influencia na sua decisão de comprar um infoproduto?',\n",
       "       '19- Como você conheceu o infoproduto adquirido?',\n",
       "       'Você está de acordo com a participação ?',\n",
       "       'Mudar de Carreira (aprender uma nova profissão)', 'Ganhos financeiros',\n",
       "       'Aquisição de conhecimento específico',\n",
       "       'Solução para um problema específico',\n",
       "       'Facilidade de aprendizado online',\n",
       "       'Flexibilidade de horário de estudo', 'Indicação de colegas ou amigos',\n",
       "       'Preparação para exames, concursos ou certificações',\n",
       "       'Empreendedorismo ou criação de negócio próprio',\n",
       "       'Desenvolvimento de habilidades técnicas',\n",
       "       'Realização de objetivos de vida',\n",
       "       '13- Qual foi o principal motivo que te levou a comprar um infoproduto? ',\n",
       "       '16-  Qual a sua percepção após a experiência adquirida com o produto?',\n",
       "       '17- Eu definitivamente indicaria esse produto a alguém',\n",
       "       '12- A seguir, temos um conjunto de motivos relacionados a comprar infoprodutos. Em uma escala de 1 a 5, em que 1 significa discordo totalmente e 5, concordo totalmente, indique seu grau de concordância com cada um desse motivos para comprar infoprodutos',\n",
       "       ' [Linha 1]'],\n",
       "      dtype='object')"
      ]
     },
     "execution_count": 5,
     "metadata": {},
     "output_type": "execute_result"
    }
   ],
   "source": [
    "df.columns"
   ]
  },
  {
   "cell_type": "code",
   "execution_count": 7,
   "id": "3f26098d",
   "metadata": {},
   "outputs": [],
   "source": [
    "df.drop('Carimbo de data/hora', axis=1, inplace=True)\n",
    "df.drop('Você está de acordo com a participação ?', axis=1, inplace=True)"
   ]
  },
  {
   "cell_type": "code",
   "execution_count": 8,
   "id": "45856fdf",
   "metadata": {},
   "outputs": [
    {
     "name": "stdout",
     "output_type": "stream",
     "text": [
      "<class 'pandas.core.frame.DataFrame'>\n",
      "RangeIndex: 151 entries, 0 to 150\n",
      "Data columns (total 35 columns):\n",
      " #   Column                                                                                                                                                                                                                                                         Non-Null Count  Dtype  \n",
      "---  ------                                                                                                                                                                                                                                                         --------------  -----  \n",
      " 0   01- Gênero                                                                                                                                                                                                                                                     151 non-null    object \n",
      " 1   02- Idade                                                                                                                                                                                                                                                      151 non-null    object \n",
      " 2   03 - Qual é o seu nível de escolaridade mais alto?                                                                                                                                                                                                             151 non-null    object \n",
      " 3   04- Estado Civil                                                                                                                                                                                                                                               151 non-null    object \n",
      " 4   05- Qual é a sua renda individual mensal?                                                                                                                                                                                                                      151 non-null    object \n",
      " 5   06- Com qual frequência você consume produtos digitais\n",
      "(e-books, cursos online, webinars, etc.)?                                                                                                                                                               151 non-null    int64  \n",
      " 6   07- Um curso com mentoria melhora a experiência e a utilização do infoproduto?                                                                                                                                                                                 151 non-null    int64  \n",
      " 7   08 - Cursos com meta trazem a sensação de progresso e isso diminui a chance de abandonar o curso.                                                                                                                                                              151 non-null    int64  \n",
      " 8   09 - Disponibilizar um infoproduto em uma variedade de formatos, como eBooks, vídeos, podcasts ou cursos, contribuiria para a melhoria da experiência do usuário.                                                                                              151 non-null    int64  \n",
      " 9   10- Sua primeira compra foi:                                                                                                                                                                                                                                   151 non-null    object \n",
      " 10  11- Quais formatos de infoprodutos você mais consome?                                                                                                                                                                                                          151 non-null    object \n",
      " 11   12- Qual a área do infoprodutos que você mais consome?                                                                                                                                                                                                        151 non-null    object \n",
      " 12  13- Quais os motivos que te levaram a comprar?  (Marque todas as opções que se aplicam)                                                                                                                                                                        0 non-null      float64\n",
      " 13  14- Quão satisfeito você ficou com o retorno obtido com a compra de infoprodutos?                                                                                                                                                                              151 non-null    int64  \n",
      " 14  15- Qual é o valor máximo que você estaria disposto a pagar por um infoproduto?                                                                                                                                                                                151 non-null    object \n",
      " 15  16- Qual a sua percepção após a experiência adquirida com o produto?                                                                                                                                                                                           0 non-null      float64\n",
      " 16  17- Eu definitivamente indicaria esse produto a alguém.                                                                                                                                                                                                        0 non-null      float64\n",
      " 17  18- O que mais influencia na sua decisão de comprar um infoproduto?                                                                                                                                                                                            151 non-null    object \n",
      " 18  19- Como você conheceu o infoproduto adquirido?                                                                                                                                                                                                                151 non-null    object \n",
      " 19  Mudar de Carreira (aprender uma nova profissão)                                                                                                                                                                                                                0 non-null      float64\n",
      " 20  Ganhos financeiros                                                                                                                                                                                                                                             0 non-null      float64\n",
      " 21  Aquisição de conhecimento específico                                                                                                                                                                                                                           0 non-null      float64\n",
      " 22  Solução para um problema específico                                                                                                                                                                                                                            0 non-null      float64\n",
      " 23  Facilidade de aprendizado online                                                                                                                                                                                                                               0 non-null      float64\n",
      " 24  Flexibilidade de horário de estudo                                                                                                                                                                                                                             0 non-null      float64\n",
      " 25  Indicação de colegas ou amigos                                                                                                                                                                                                                                 0 non-null      float64\n",
      " 26  Preparação para exames, concursos ou certificações                                                                                                                                                                                                             0 non-null      float64\n",
      " 27  Empreendedorismo ou criação de negócio próprio                                                                                                                                                                                                                 0 non-null      float64\n",
      " 28  Desenvolvimento de habilidades técnicas                                                                                                                                                                                                                        0 non-null      float64\n",
      " 29  Realização de objetivos de vida                                                                                                                                                                                                                                0 non-null      float64\n",
      " 30  13- Qual foi o principal motivo que te levou a comprar um infoproduto?                                                                                                                                                                                         151 non-null    object \n",
      " 31  16-  Qual a sua percepção após a experiência adquirida com o produto?                                                                                                                                                                                          151 non-null    int64  \n",
      " 32  17- Eu definitivamente indicaria esse produto a alguém                                                                                                                                                                                                         151 non-null    int64  \n",
      " 33  12- A seguir, temos um conjunto de motivos relacionados a comprar infoprodutos. Em uma escala de 1 a 5, em que 1 significa discordo totalmente e 5, concordo totalmente, indique seu grau de concordância com cada um desse motivos para comprar infoprodutos  0 non-null      float64\n",
      " 34   [Linha 1]                                                                                                                                                                                                                                                     0 non-null      float64\n",
      "dtypes: float64(16), int64(7), object(12)\n",
      "memory usage: 41.4+ KB\n"
     ]
    }
   ],
   "source": [
    "df.info()"
   ]
  },
  {
   "cell_type": "code",
   "execution_count": 10,
   "id": "cfaf71b1",
   "metadata": {},
   "outputs": [],
   "source": [
    "df.dropna(axis=1, how='all', inplace=True)"
   ]
  },
  {
   "cell_type": "code",
   "execution_count": 12,
   "id": "ede305d5",
   "metadata": {},
   "outputs": [],
   "source": [
    "newname = {'01- Gênero': 'Gênero', \n",
    "           '02- Idade': 'Idade', \n",
    "           '03 - Qual é o seu nível de escolaridade mais alto?': 'Escolaridade', \n",
    "           '04- Estado Civil': 'Estado Civil', \n",
    "           '05- Qual é a sua renda individual mensal?  ': 'Renda', \n",
    "           '06- Com qual frequência você consume produtos digitais\\n(e-books, cursos online, webinars, etc.)?': 'Frequência no Consumo', \n",
    "           '07- Um curso com mentoria melhora a experiência e a utilização do infoproduto?': 'Benefícios da Mentoria', \n",
    "           '08 - Cursos com meta trazem a sensação de progresso e isso diminui a chance de abandonar o curso.': 'Meta Melhora o Progresso', \n",
    "           '09 - Disponibilizar um infoproduto em uma variedade de formatos, como eBooks, vídeos, podcasts ou cursos, contribuiria para a melhoria da experiência do usuário.': 'Variedade Melhora a Experiência' ,\n",
    "           '10- Sua primeira compra foi:': 'Primeira Compra',\n",
    "           '11- Quais formatos de infoprodutos você mais consome?': 'Formato do Infoproduto', \n",
    "           ' 12- Qual a área do infoprodutos que você mais consome?  ': 'Área mais Consumida', \n",
    "           '14- Quão satisfeito você ficou com o retorno obtido com a compra de infoprodutos?   ': 'Satisfação com o Produto', \n",
    "           '15- Qual é o valor máximo que você estaria disposto a pagar por um infoproduto?': 'Disposição Financeira', \n",
    "           '18- O que mais influencia na sua decisão de comprar um infoproduto?': 'Influência na Compra', \n",
    "           '19- Como você conheceu o infoproduto adquirido?': 'Primeiro Contato', \n",
    "           '13- Qual foi o principal motivo que te levou a comprar um infoproduto? ': \"Motivação para Compra\", \n",
    "           '16-  Qual a sua percepção após a experiência adquirida com o produto?': 'Percepção da Experiência com o Produto', \n",
    "           '17- Eu definitivamente indicaria esse produto a alguém': 'Indicaria o Produto'}"
   ]
  },
  {
   "cell_type": "code",
   "execution_count": 13,
   "id": "9198a4a2",
   "metadata": {},
   "outputs": [],
   "source": [
    "df.rename(columns=newname, inplace=True)"
   ]
  },
  {
   "cell_type": "code",
   "execution_count": 15,
   "id": "49b7d9ed",
   "metadata": {},
   "outputs": [
    {
     "data": {
      "text/plain": [
       "Index(['Gênero', 'Idade', 'Escolaridade', 'Estado Civil', 'Renda',\n",
       "       'Frequência no Consumo', 'Benefícios da Mentoria',\n",
       "       'Meta Melhora o Progresso', 'Variedade Melhora a Experiência',\n",
       "       'Primeira Compra', 'Formato do Infoproduto', 'Área mais Consumida',\n",
       "       'Satisfação com o Produto', 'Disposição Financeira',\n",
       "       'Influência na Compra', 'Primeiro Contato', 'Motivação para Compra',\n",
       "       'Percepção da Experiência com o Produto', 'Indicaria o Produto'],\n",
       "      dtype='object')"
      ]
     },
     "execution_count": 15,
     "metadata": {},
     "output_type": "execute_result"
    }
   ],
   "source": [
    "df.columns"
   ]
  },
  {
   "cell_type": "code",
   "execution_count": 14,
   "id": "2b40aafd",
   "metadata": {},
   "outputs": [
    {
     "data": {
      "text/plain": [
       "array(['25-34 anos', '18-24 anos', '35-44 anos', '45 anos ou mais',\n",
       "       'Menos de 18 anos'], dtype=object)"
      ]
     },
     "execution_count": 14,
     "metadata": {},
     "output_type": "execute_result"
    }
   ],
   "source": [
    "df['Idade'].unique()"
   ]
  },
  {
   "cell_type": "code",
   "execution_count": 17,
   "id": "bdc44bd7",
   "metadata": {},
   "outputs": [],
   "source": [
    "df = df.query(\"`Idade` != 'Menos de 18 anos'\")"
   ]
  },
  {
   "cell_type": "code",
   "execution_count": 18,
   "id": "c519e361",
   "metadata": {},
   "outputs": [
    {
     "name": "stdout",
     "output_type": "stream",
     "text": [
      "<class 'pandas.core.frame.DataFrame'>\n",
      "Index: 150 entries, 0 to 150\n",
      "Data columns (total 19 columns):\n",
      " #   Column                                  Non-Null Count  Dtype \n",
      "---  ------                                  --------------  ----- \n",
      " 0   Gênero                                  150 non-null    object\n",
      " 1   Idade                                   150 non-null    object\n",
      " 2   Escolaridade                            150 non-null    object\n",
      " 3   Estado Civil                            150 non-null    object\n",
      " 4   Renda                                   150 non-null    object\n",
      " 5   Frequência no Consumo                   150 non-null    int64 \n",
      " 6   Benefícios da Mentoria                  150 non-null    int64 \n",
      " 7   Meta Melhora o Progresso                150 non-null    int64 \n",
      " 8   Variedade Melhora a Experiência         150 non-null    int64 \n",
      " 9   Primeira Compra                         150 non-null    object\n",
      " 10  Formato do Infoproduto                  150 non-null    object\n",
      " 11  Área mais Consumida                     150 non-null    object\n",
      " 12  Satisfação com o Produto                150 non-null    int64 \n",
      " 13  Disposição Financeira                   150 non-null    object\n",
      " 14  Influência na Compra                    150 non-null    object\n",
      " 15  Primeiro Contato                        150 non-null    object\n",
      " 16  Motivação para Compra                   150 non-null    object\n",
      " 17  Percepção da Experiência com o Produto  150 non-null    int64 \n",
      " 18  Indicaria o Produto                     150 non-null    int64 \n",
      "dtypes: int64(7), object(12)\n",
      "memory usage: 23.4+ KB\n"
     ]
    },
    {
     "data": {
      "text/plain": [
       "None"
      ]
     },
     "metadata": {},
     "output_type": "display_data"
    }
   ],
   "source": [
    "display(df.info())"
   ]
  },
  {
   "cell_type": "code",
   "execution_count": 19,
   "id": "38ee0f58",
   "metadata": {},
   "outputs": [
    {
     "data": {
      "text/html": [
       "<div>\n",
       "<style scoped>\n",
       "    .dataframe tbody tr th:only-of-type {\n",
       "        vertical-align: middle;\n",
       "    }\n",
       "\n",
       "    .dataframe tbody tr th {\n",
       "        vertical-align: top;\n",
       "    }\n",
       "\n",
       "    .dataframe thead th {\n",
       "        text-align: right;\n",
       "    }\n",
       "</style>\n",
       "<table border=\"1\" class=\"dataframe\">\n",
       "  <thead>\n",
       "    <tr style=\"text-align: right;\">\n",
       "      <th></th>\n",
       "      <th>Gênero</th>\n",
       "      <th>Idade</th>\n",
       "      <th>Escolaridade</th>\n",
       "      <th>Estado Civil</th>\n",
       "      <th>Renda</th>\n",
       "      <th>Frequência no Consumo</th>\n",
       "      <th>Benefícios da Mentoria</th>\n",
       "      <th>Meta Melhora o Progresso</th>\n",
       "      <th>Variedade Melhora a Experiência</th>\n",
       "      <th>Primeira Compra</th>\n",
       "      <th>Formato do Infoproduto</th>\n",
       "      <th>Área mais Consumida</th>\n",
       "      <th>Satisfação com o Produto</th>\n",
       "      <th>Disposição Financeira</th>\n",
       "      <th>Influência na Compra</th>\n",
       "      <th>Primeiro Contato</th>\n",
       "      <th>Motivação para Compra</th>\n",
       "      <th>Percepção da Experiência com o Produto</th>\n",
       "      <th>Indicaria o Produto</th>\n",
       "    </tr>\n",
       "  </thead>\n",
       "  <tbody>\n",
       "    <tr>\n",
       "      <th>0</th>\n",
       "      <td>Feminino</td>\n",
       "      <td>25-34 anos</td>\n",
       "      <td>Ensino Superior</td>\n",
       "      <td>Solteiro(a)</td>\n",
       "      <td>Acima de R$ 1.212 até R$ 3.636,00</td>\n",
       "      <td>3</td>\n",
       "      <td>4</td>\n",
       "      <td>4</td>\n",
       "      <td>4</td>\n",
       "      <td>Antes da pandemia</td>\n",
       "      <td>Visual: Infográficos, figuras, página de venda...</td>\n",
       "      <td>Educação</td>\n",
       "      <td>3</td>\n",
       "      <td>Entre R$ 50,00 e R$ 100,00.</td>\n",
       "      <td>Preço</td>\n",
       "      <td>Recomendação de amigos ou colegas</td>\n",
       "      <td>Realização de objetivos de vida</td>\n",
       "      <td>3</td>\n",
       "      <td>4</td>\n",
       "    </tr>\n",
       "    <tr>\n",
       "      <th>1</th>\n",
       "      <td>Feminino</td>\n",
       "      <td>18-24 anos</td>\n",
       "      <td>Ensino Superior</td>\n",
       "      <td>Solteiro(a)</td>\n",
       "      <td>Acima de R$ 1.212 até R$ 3.636,00</td>\n",
       "      <td>3</td>\n",
       "      <td>1</td>\n",
       "      <td>4</td>\n",
       "      <td>5</td>\n",
       "      <td>Antes da pandemia</td>\n",
       "      <td>Vídeo: Vídeo aulas, mentorias, screencasts , c...</td>\n",
       "      <td>Finanças</td>\n",
       "      <td>3</td>\n",
       "      <td>Acima de R$ 200,00</td>\n",
       "      <td>Conteúdo do infoproduto (tema/relevância)</td>\n",
       "      <td>Por meio das redes sociais, como Instagram, Ti...</td>\n",
       "      <td>Facilidade de aprendizado online</td>\n",
       "      <td>4</td>\n",
       "      <td>4</td>\n",
       "    </tr>\n",
       "    <tr>\n",
       "      <th>2</th>\n",
       "      <td>Feminino</td>\n",
       "      <td>25-34 anos</td>\n",
       "      <td>Ensino Superior</td>\n",
       "      <td>Solteiro(a)</td>\n",
       "      <td>Acima de R$ 3.636,00 até R$ 6.000</td>\n",
       "      <td>5</td>\n",
       "      <td>5</td>\n",
       "      <td>5</td>\n",
       "      <td>5</td>\n",
       "      <td>Antes da pandemia</td>\n",
       "      <td>Vídeo: Vídeo aulas, mentorias, screencasts , c...</td>\n",
       "      <td>Educação</td>\n",
       "      <td>4</td>\n",
       "      <td>Entre R$ 100,00 e R$ 200,00</td>\n",
       "      <td>Conteúdo gratuito oferecido pelo produtor</td>\n",
       "      <td>Por meio das redes sociais, como Instagram, Ti...</td>\n",
       "      <td>Aquisição de conhecimento específico</td>\n",
       "      <td>4</td>\n",
       "      <td>4</td>\n",
       "    </tr>\n",
       "    <tr>\n",
       "      <th>3</th>\n",
       "      <td>Masculino</td>\n",
       "      <td>18-24 anos</td>\n",
       "      <td>Ensino Médio</td>\n",
       "      <td>Solteiro(a)</td>\n",
       "      <td>Acima de R$ 1.212 até R$ 3.636,00</td>\n",
       "      <td>4</td>\n",
       "      <td>4</td>\n",
       "      <td>4</td>\n",
       "      <td>2</td>\n",
       "      <td>Depois da pandemia</td>\n",
       "      <td>Vídeo: Vídeo aulas, mentorias, screencasts , c...</td>\n",
       "      <td>Desenvolvimento Pessoal</td>\n",
       "      <td>4</td>\n",
       "      <td>Acima de R$ 200,00</td>\n",
       "      <td>Avaliações e depoimentos de clientes</td>\n",
       "      <td>Por meio das redes sociais, como Instagram, Ti...</td>\n",
       "      <td>Preparação para exames, concursos ou certifica...</td>\n",
       "      <td>3</td>\n",
       "      <td>3</td>\n",
       "    </tr>\n",
       "    <tr>\n",
       "      <th>4</th>\n",
       "      <td>Feminino</td>\n",
       "      <td>18-24 anos</td>\n",
       "      <td>Ensino Médio</td>\n",
       "      <td>Solteiro(a)</td>\n",
       "      <td>Até R$ 1.212,00</td>\n",
       "      <td>5</td>\n",
       "      <td>5</td>\n",
       "      <td>5</td>\n",
       "      <td>5</td>\n",
       "      <td>Antes da pandemia</td>\n",
       "      <td>Áudio: Áudiobook e podcast</td>\n",
       "      <td>Desenvolvimento Pessoal</td>\n",
       "      <td>4</td>\n",
       "      <td>Entre R$ 100,00 e R$ 200,00</td>\n",
       "      <td>Conteúdo gratuito oferecido pelo produtor</td>\n",
       "      <td>Por meio das redes sociais, como Instagram, Ti...</td>\n",
       "      <td>Aquisição de conhecimento específico</td>\n",
       "      <td>4</td>\n",
       "      <td>5</td>\n",
       "    </tr>\n",
       "  </tbody>\n",
       "</table>\n",
       "</div>"
      ],
      "text/plain": [
       "      Gênero       Idade     Escolaridade Estado Civil  \\\n",
       "0   Feminino  25-34 anos  Ensino Superior  Solteiro(a)   \n",
       "1   Feminino  18-24 anos  Ensino Superior  Solteiro(a)   \n",
       "2   Feminino  25-34 anos  Ensino Superior  Solteiro(a)   \n",
       "3  Masculino  18-24 anos     Ensino Médio  Solteiro(a)   \n",
       "4   Feminino  18-24 anos     Ensino Médio  Solteiro(a)   \n",
       "\n",
       "                               Renda  Frequência no Consumo  \\\n",
       "0  Acima de R$ 1.212 até R$ 3.636,00                      3   \n",
       "1  Acima de R$ 1.212 até R$ 3.636,00                      3   \n",
       "2  Acima de R$ 3.636,00 até R$ 6.000                      5   \n",
       "3  Acima de R$ 1.212 até R$ 3.636,00                      4   \n",
       "4                    Até R$ 1.212,00                      5   \n",
       "\n",
       "   Benefícios da Mentoria  Meta Melhora o Progresso  \\\n",
       "0                       4                         4   \n",
       "1                       1                         4   \n",
       "2                       5                         5   \n",
       "3                       4                         4   \n",
       "4                       5                         5   \n",
       "\n",
       "   Variedade Melhora a Experiência     Primeira Compra  \\\n",
       "0                                4   Antes da pandemia   \n",
       "1                                5   Antes da pandemia   \n",
       "2                                5   Antes da pandemia   \n",
       "3                                2  Depois da pandemia   \n",
       "4                                5   Antes da pandemia   \n",
       "\n",
       "                              Formato do Infoproduto      Área mais Consumida  \\\n",
       "0  Visual: Infográficos, figuras, página de venda...                 Educação   \n",
       "1  Vídeo: Vídeo aulas, mentorias, screencasts , c...                 Finanças   \n",
       "2  Vídeo: Vídeo aulas, mentorias, screencasts , c...                 Educação   \n",
       "3  Vídeo: Vídeo aulas, mentorias, screencasts , c...  Desenvolvimento Pessoal   \n",
       "4                         Áudio: Áudiobook e podcast  Desenvolvimento Pessoal   \n",
       "\n",
       "   Satisfação com o Produto        Disposição Financeira  \\\n",
       "0                         3  Entre R$ 50,00 e R$ 100,00.   \n",
       "1                         3           Acima de R$ 200,00   \n",
       "2                         4  Entre R$ 100,00 e R$ 200,00   \n",
       "3                         4           Acima de R$ 200,00   \n",
       "4                         4  Entre R$ 100,00 e R$ 200,00   \n",
       "\n",
       "                        Influência na Compra  \\\n",
       "0                                      Preço   \n",
       "1  Conteúdo do infoproduto (tema/relevância)   \n",
       "2  Conteúdo gratuito oferecido pelo produtor   \n",
       "3       Avaliações e depoimentos de clientes   \n",
       "4  Conteúdo gratuito oferecido pelo produtor   \n",
       "\n",
       "                                    Primeiro Contato  \\\n",
       "0                  Recomendação de amigos ou colegas   \n",
       "1  Por meio das redes sociais, como Instagram, Ti...   \n",
       "2  Por meio das redes sociais, como Instagram, Ti...   \n",
       "3  Por meio das redes sociais, como Instagram, Ti...   \n",
       "4  Por meio das redes sociais, como Instagram, Ti...   \n",
       "\n",
       "                               Motivação para Compra  \\\n",
       "0                    Realização de objetivos de vida   \n",
       "1                   Facilidade de aprendizado online   \n",
       "2               Aquisição de conhecimento específico   \n",
       "3  Preparação para exames, concursos ou certifica...   \n",
       "4               Aquisição de conhecimento específico   \n",
       "\n",
       "   Percepção da Experiência com o Produto  Indicaria o Produto  \n",
       "0                                       3                    4  \n",
       "1                                       4                    4  \n",
       "2                                       4                    4  \n",
       "3                                       3                    3  \n",
       "4                                       4                    5  "
      ]
     },
     "metadata": {},
     "output_type": "display_data"
    }
   ],
   "source": [
    "display(df.head())"
   ]
  },
  {
   "cell_type": "code",
   "execution_count": null,
   "id": "90cfe12f",
   "metadata": {},
   "outputs": [],
   "source": []
  }
 ],
 "metadata": {
  "kernelspec": {
   "display_name": "Python 3 (ipykernel)",
   "language": "python",
   "name": "python3"
  },
  "language_info": {
   "codemirror_mode": {
    "name": "ipython",
    "version": 3
   },
   "file_extension": ".py",
   "mimetype": "text/x-python",
   "name": "python",
   "nbconvert_exporter": "python",
   "pygments_lexer": "ipython3",
   "version": "3.11.5"
  }
 },
 "nbformat": 4,
 "nbformat_minor": 5
}
