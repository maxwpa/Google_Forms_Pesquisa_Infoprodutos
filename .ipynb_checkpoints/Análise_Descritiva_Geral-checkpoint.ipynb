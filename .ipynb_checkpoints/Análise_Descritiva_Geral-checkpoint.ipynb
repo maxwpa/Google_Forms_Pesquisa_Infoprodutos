{
 "cells": [
  {
   "cell_type": "code",
   "execution_count": 8,
   "id": "d64516d8",
   "metadata": {},
   "outputs": [],
   "source": [
    "import pandas as pd\n",
    "import numpy as np"
   ]
  },
  {
   "cell_type": "code",
   "execution_count": 2,
   "id": "b571b095",
   "metadata": {},
   "outputs": [],
   "source": [
    "df = pd.read_csv('Dados_Tratados.csv')"
   ]
  },
  {
   "cell_type": "code",
   "execution_count": 6,
   "id": "bc2b6f1a",
   "metadata": {},
   "outputs": [
    {
     "data": {
      "text/html": [
       "<div>\n",
       "<style scoped>\n",
       "    .dataframe tbody tr th:only-of-type {\n",
       "        vertical-align: middle;\n",
       "    }\n",
       "\n",
       "    .dataframe tbody tr th {\n",
       "        vertical-align: top;\n",
       "    }\n",
       "\n",
       "    .dataframe thead th {\n",
       "        text-align: right;\n",
       "    }\n",
       "</style>\n",
       "<table border=\"1\" class=\"dataframe\">\n",
       "  <thead>\n",
       "    <tr style=\"text-align: right;\">\n",
       "      <th></th>\n",
       "      <th>Frequência no Consumo</th>\n",
       "      <th>Benefícios da Mentoria</th>\n",
       "      <th>Meta Melhora o Progresso</th>\n",
       "      <th>Variedade Melhora a Experiência</th>\n",
       "      <th>Satisfação com o Produto</th>\n",
       "      <th>Percepção da Experiência com o Produto</th>\n",
       "      <th>Indicaria o Produto</th>\n",
       "    </tr>\n",
       "  </thead>\n",
       "  <tbody>\n",
       "    <tr>\n",
       "      <th>count</th>\n",
       "      <td>150.0</td>\n",
       "      <td>150.00</td>\n",
       "      <td>150.00</td>\n",
       "      <td>150.00</td>\n",
       "      <td>150.00</td>\n",
       "      <td>150.00</td>\n",
       "      <td>150.00</td>\n",
       "    </tr>\n",
       "    <tr>\n",
       "      <th>mean</th>\n",
       "      <td>3.3</td>\n",
       "      <td>4.03</td>\n",
       "      <td>4.16</td>\n",
       "      <td>4.47</td>\n",
       "      <td>3.90</td>\n",
       "      <td>3.97</td>\n",
       "      <td>3.99</td>\n",
       "    </tr>\n",
       "    <tr>\n",
       "      <th>std</th>\n",
       "      <td>1.3</td>\n",
       "      <td>0.94</td>\n",
       "      <td>0.89</td>\n",
       "      <td>0.77</td>\n",
       "      <td>0.93</td>\n",
       "      <td>0.83</td>\n",
       "      <td>0.93</td>\n",
       "    </tr>\n",
       "    <tr>\n",
       "      <th>min</th>\n",
       "      <td>1.0</td>\n",
       "      <td>1.00</td>\n",
       "      <td>1.00</td>\n",
       "      <td>2.00</td>\n",
       "      <td>1.00</td>\n",
       "      <td>2.00</td>\n",
       "      <td>1.00</td>\n",
       "    </tr>\n",
       "    <tr>\n",
       "      <th>25%</th>\n",
       "      <td>2.0</td>\n",
       "      <td>3.00</td>\n",
       "      <td>4.00</td>\n",
       "      <td>4.00</td>\n",
       "      <td>3.00</td>\n",
       "      <td>3.00</td>\n",
       "      <td>3.00</td>\n",
       "    </tr>\n",
       "    <tr>\n",
       "      <th>50%</th>\n",
       "      <td>3.0</td>\n",
       "      <td>4.00</td>\n",
       "      <td>4.00</td>\n",
       "      <td>5.00</td>\n",
       "      <td>4.00</td>\n",
       "      <td>4.00</td>\n",
       "      <td>4.00</td>\n",
       "    </tr>\n",
       "    <tr>\n",
       "      <th>75%</th>\n",
       "      <td>4.0</td>\n",
       "      <td>5.00</td>\n",
       "      <td>5.00</td>\n",
       "      <td>5.00</td>\n",
       "      <td>5.00</td>\n",
       "      <td>5.00</td>\n",
       "      <td>5.00</td>\n",
       "    </tr>\n",
       "    <tr>\n",
       "      <th>max</th>\n",
       "      <td>5.0</td>\n",
       "      <td>5.00</td>\n",
       "      <td>5.00</td>\n",
       "      <td>5.00</td>\n",
       "      <td>5.00</td>\n",
       "      <td>5.00</td>\n",
       "      <td>5.00</td>\n",
       "    </tr>\n",
       "  </tbody>\n",
       "</table>\n",
       "</div>"
      ],
      "text/plain": [
       "       Frequência no Consumo  Benefícios da Mentoria  \\\n",
       "count                  150.0                  150.00   \n",
       "mean                     3.3                    4.03   \n",
       "std                      1.3                    0.94   \n",
       "min                      1.0                    1.00   \n",
       "25%                      2.0                    3.00   \n",
       "50%                      3.0                    4.00   \n",
       "75%                      4.0                    5.00   \n",
       "max                      5.0                    5.00   \n",
       "\n",
       "       Meta Melhora o Progresso  Variedade Melhora a Experiência  \\\n",
       "count                    150.00                           150.00   \n",
       "mean                       4.16                             4.47   \n",
       "std                        0.89                             0.77   \n",
       "min                        1.00                             2.00   \n",
       "25%                        4.00                             4.00   \n",
       "50%                        4.00                             5.00   \n",
       "75%                        5.00                             5.00   \n",
       "max                        5.00                             5.00   \n",
       "\n",
       "       Satisfação com o Produto  Percepção da Experiência com o Produto  \\\n",
       "count                    150.00                                  150.00   \n",
       "mean                       3.90                                    3.97   \n",
       "std                        0.93                                    0.83   \n",
       "min                        1.00                                    2.00   \n",
       "25%                        3.00                                    3.00   \n",
       "50%                        4.00                                    4.00   \n",
       "75%                        5.00                                    5.00   \n",
       "max                        5.00                                    5.00   \n",
       "\n",
       "       Indicaria o Produto  \n",
       "count               150.00  \n",
       "mean                  3.99  \n",
       "std                   0.93  \n",
       "min                   1.00  \n",
       "25%                   3.00  \n",
       "50%                   4.00  \n",
       "75%                   5.00  \n",
       "max                   5.00  "
      ]
     },
     "execution_count": 6,
     "metadata": {},
     "output_type": "execute_result"
    }
   ],
   "source": [
    "df.describe().round(2)"
   ]
  },
  {
   "cell_type": "code",
   "execution_count": 16,
   "id": "412d6a96",
   "metadata": {},
   "outputs": [
    {
     "data": {
      "text/plain": [
       "Gênero\n",
       "Feminino     56.00%\n",
       "Masculino    44.00%\n",
       "Name: proportion, dtype: object"
      ]
     },
     "metadata": {},
     "output_type": "display_data"
    },
    {
     "data": {
      "text/plain": [
       "Idade\n",
       "18-24 anos         45.33%\n",
       "25-34 anos         36.67%\n",
       "35-44 anos         15.33%\n",
       "45 anos ou mais     2.67%\n",
       "Name: proportion, dtype: object"
      ]
     },
     "metadata": {},
     "output_type": "display_data"
    },
    {
     "data": {
      "text/plain": [
       "Escolaridade\n",
       "Ensino Superior       48.67%\n",
       "Ensino Médio          38.67%\n",
       "Pós-Graduação         12.00%\n",
       "Ensino Fundamental     0.67%\n",
       "Name: proportion, dtype: object"
      ]
     },
     "metadata": {},
     "output_type": "display_data"
    },
    {
     "data": {
      "text/plain": [
       "Estado Civil\n",
       "Solteiro(a)      72.00%\n",
       "Casado(a)        23.33%\n",
       "Outros            2.67%\n",
       "Divorciado(a)     1.33%\n",
       "Viúvo(a)          0.67%\n",
       "Name: proportion, dtype: object"
      ]
     },
     "metadata": {},
     "output_type": "display_data"
    },
    {
     "data": {
      "text/plain": [
       "Renda\n",
       "Acima de R$ 1.212 até R$ 3.636,00    50.00%\n",
       "Até R$ 1.212,00                      36.00%\n",
       "Acima de R$ 3.636,00 até R$ 6.000    11.33%\n",
       "Acima de R$ 6.000                     2.67%\n",
       "Name: proportion, dtype: object"
      ]
     },
     "metadata": {},
     "output_type": "display_data"
    },
    {
     "data": {
      "text/plain": [
       "Primeira Compra\n",
       "Antes da pandemia     52.67%\n",
       "Durante a pandemia    26.67%\n",
       "Depois da pandemia    12.67%\n",
       "Ainda não comprei      8.00%\n",
       "Name: proportion, dtype: object"
      ]
     },
     "metadata": {},
     "output_type": "display_data"
    },
    {
     "data": {
      "text/plain": [
       "Formato do Infoproduto\n",
       "Vídeo: Vídeo aulas, mentorias, screencasts , cursos e lives, Videocast , filmes ou documentários    60.67%\n",
       "Texto: PDF e E-book                                                                                 31.33%\n",
       "Visual: Infográficos, figuras, página de vendas, site, Template e planilha                           5.33%\n",
       "Áudio: Áudiobook e podcast                                                                           2.67%\n",
       "Name: proportion, dtype: object"
      ]
     },
     "metadata": {},
     "output_type": "display_data"
    },
    {
     "data": {
      "text/plain": [
       "Área mais Consumida\n",
       "Educação                   57.33%\n",
       "Desenvolvimento Pessoal    24.00%\n",
       "Saúde                      11.33%\n",
       "Finanças                    7.33%\n",
       "Name: proportion, dtype: object"
      ]
     },
     "metadata": {},
     "output_type": "display_data"
    },
    {
     "data": {
      "text/plain": [
       "Disposição Financeira\n",
       "Entre R$ 50,00 e R$ 100,00.    39.33%\n",
       "Acima de R$ 200,00             26.00%\n",
       "Entre R$ 100,00 e R$ 200,00    22.67%\n",
       "Menos de R$ 50,00              12.00%\n",
       "Name: proportion, dtype: object"
      ]
     },
     "metadata": {},
     "output_type": "display_data"
    },
    {
     "data": {
      "text/plain": [
       "Influência na Compra\n",
       "Conteúdo do infoproduto (tema/relevância)                 26.00%\n",
       "Avaliações e depoimentos de clientes                      22.00%\n",
       "Recomendações de amigos/familiares                        17.33%\n",
       "Qualidade da apresentação (vídeo, áudio, design, etc.)    15.33%\n",
       "Conteúdo gratuito oferecido pelo produtor                  9.33%\n",
       "Preço                                                      8.67%\n",
       "Garantia de devolução do dinheiro                          1.33%\n",
       "Name: proportion, dtype: object"
      ]
     },
     "metadata": {},
     "output_type": "display_data"
    },
    {
     "data": {
      "text/plain": [
       "Primeiro Contato\n",
       "Por meio das redes sociais, como Instagram, TikTok, YouTube ou Twitter    38.67%\n",
       "Recomendação de amigos ou colegas                                         32.00%\n",
       "Pesquisa em mecanismos de busca, como o Google                            20.00%\n",
       "Por meio de anúncios online, como no Facebook ou Google Ads                9.33%\n",
       "Name: proportion, dtype: object"
      ]
     },
     "metadata": {},
     "output_type": "display_data"
    },
    {
     "data": {
      "text/plain": [
       "Motivação para Compra\n",
       "Aquisição de conhecimento específico                  29.33%\n",
       "Preparação para exames, concursos ou certificações    16.67%\n",
       "Desenvolvimento de habilidades técnicas               10.00%\n",
       "Flexibilidade de horário de estudo                    10.00%\n",
       "Mudar de Carreira (aprender uma nova profissão)        8.00%\n",
       "Realização de objetivos de vida                        7.33%\n",
       "Facilidade de aprendizado online                       7.33%\n",
       "Ganhos financeiros                                     6.00%\n",
       "Indicação de colegas ou amigos                         2.67%\n",
       "Solução para um problema específico                    2.00%\n",
       "Empreendedorismo ou criação de negócio próprio         0.67%\n",
       "Name: proportion, dtype: object"
      ]
     },
     "metadata": {},
     "output_type": "display_data"
    }
   ],
   "source": [
    "qualy = df.select_dtypes(exclude=[np.number])\n",
    "for coluna in qualy.columns:\n",
    "    resul = qualy[coluna].value_counts(normalize=True)\n",
    "    resul = resul.apply(lambda x: '{:.2%}'.format(x))\n",
    "    \n",
    "    display(resul)"
   ]
  },
  {
   "cell_type": "code",
   "execution_count": 12,
   "id": "d463417f",
   "metadata": {},
   "outputs": [
    {
     "data": {
      "text/html": [
       "<div>\n",
       "<style scoped>\n",
       "    .dataframe tbody tr th:only-of-type {\n",
       "        vertical-align: middle;\n",
       "    }\n",
       "\n",
       "    .dataframe tbody tr th {\n",
       "        vertical-align: top;\n",
       "    }\n",
       "\n",
       "    .dataframe thead th {\n",
       "        text-align: right;\n",
       "    }\n",
       "</style>\n",
       "<table border=\"1\" class=\"dataframe\">\n",
       "  <thead>\n",
       "    <tr style=\"text-align: right;\">\n",
       "      <th></th>\n",
       "      <th>Frequência no Consumo</th>\n",
       "      <th>Benefícios da Mentoria</th>\n",
       "      <th>Meta Melhora o Progresso</th>\n",
       "      <th>Variedade Melhora a Experiência</th>\n",
       "      <th>Satisfação com o Produto</th>\n",
       "      <th>Percepção da Experiência com o Produto</th>\n",
       "      <th>Indicaria o Produto</th>\n",
       "    </tr>\n",
       "  </thead>\n",
       "  <tbody>\n",
       "    <tr>\n",
       "      <th>Frequência no Consumo</th>\n",
       "      <td>1.00</td>\n",
       "      <td>0.28</td>\n",
       "      <td>0.11</td>\n",
       "      <td>0.25</td>\n",
       "      <td>0.46</td>\n",
       "      <td>0.39</td>\n",
       "      <td>0.35</td>\n",
       "    </tr>\n",
       "    <tr>\n",
       "      <th>Benefícios da Mentoria</th>\n",
       "      <td>0.28</td>\n",
       "      <td>1.00</td>\n",
       "      <td>0.38</td>\n",
       "      <td>0.32</td>\n",
       "      <td>0.36</td>\n",
       "      <td>0.33</td>\n",
       "      <td>0.37</td>\n",
       "    </tr>\n",
       "    <tr>\n",
       "      <th>Meta Melhora o Progresso</th>\n",
       "      <td>0.11</td>\n",
       "      <td>0.38</td>\n",
       "      <td>1.00</td>\n",
       "      <td>0.38</td>\n",
       "      <td>0.33</td>\n",
       "      <td>0.34</td>\n",
       "      <td>0.35</td>\n",
       "    </tr>\n",
       "    <tr>\n",
       "      <th>Variedade Melhora a Experiência</th>\n",
       "      <td>0.25</td>\n",
       "      <td>0.32</td>\n",
       "      <td>0.38</td>\n",
       "      <td>1.00</td>\n",
       "      <td>0.33</td>\n",
       "      <td>0.39</td>\n",
       "      <td>0.48</td>\n",
       "    </tr>\n",
       "    <tr>\n",
       "      <th>Satisfação com o Produto</th>\n",
       "      <td>0.46</td>\n",
       "      <td>0.36</td>\n",
       "      <td>0.33</td>\n",
       "      <td>0.33</td>\n",
       "      <td>1.00</td>\n",
       "      <td>0.76</td>\n",
       "      <td>0.66</td>\n",
       "    </tr>\n",
       "    <tr>\n",
       "      <th>Percepção da Experiência com o Produto</th>\n",
       "      <td>0.39</td>\n",
       "      <td>0.33</td>\n",
       "      <td>0.34</td>\n",
       "      <td>0.39</td>\n",
       "      <td>0.76</td>\n",
       "      <td>1.00</td>\n",
       "      <td>0.77</td>\n",
       "    </tr>\n",
       "    <tr>\n",
       "      <th>Indicaria o Produto</th>\n",
       "      <td>0.35</td>\n",
       "      <td>0.37</td>\n",
       "      <td>0.35</td>\n",
       "      <td>0.48</td>\n",
       "      <td>0.66</td>\n",
       "      <td>0.77</td>\n",
       "      <td>1.00</td>\n",
       "    </tr>\n",
       "  </tbody>\n",
       "</table>\n",
       "</div>"
      ],
      "text/plain": [
       "                                        Frequência no Consumo  \\\n",
       "Frequência no Consumo                                    1.00   \n",
       "Benefícios da Mentoria                                   0.28   \n",
       "Meta Melhora o Progresso                                 0.11   \n",
       "Variedade Melhora a Experiência                          0.25   \n",
       "Satisfação com o Produto                                 0.46   \n",
       "Percepção da Experiência com o Produto                   0.39   \n",
       "Indicaria o Produto                                      0.35   \n",
       "\n",
       "                                        Benefícios da Mentoria  \\\n",
       "Frequência no Consumo                                     0.28   \n",
       "Benefícios da Mentoria                                    1.00   \n",
       "Meta Melhora o Progresso                                  0.38   \n",
       "Variedade Melhora a Experiência                           0.32   \n",
       "Satisfação com o Produto                                  0.36   \n",
       "Percepção da Experiência com o Produto                    0.33   \n",
       "Indicaria o Produto                                       0.37   \n",
       "\n",
       "                                        Meta Melhora o Progresso  \\\n",
       "Frequência no Consumo                                       0.11   \n",
       "Benefícios da Mentoria                                      0.38   \n",
       "Meta Melhora o Progresso                                    1.00   \n",
       "Variedade Melhora a Experiência                             0.38   \n",
       "Satisfação com o Produto                                    0.33   \n",
       "Percepção da Experiência com o Produto                      0.34   \n",
       "Indicaria o Produto                                         0.35   \n",
       "\n",
       "                                        Variedade Melhora a Experiência  \\\n",
       "Frequência no Consumo                                              0.25   \n",
       "Benefícios da Mentoria                                             0.32   \n",
       "Meta Melhora o Progresso                                           0.38   \n",
       "Variedade Melhora a Experiência                                    1.00   \n",
       "Satisfação com o Produto                                           0.33   \n",
       "Percepção da Experiência com o Produto                             0.39   \n",
       "Indicaria o Produto                                                0.48   \n",
       "\n",
       "                                        Satisfação com o Produto  \\\n",
       "Frequência no Consumo                                       0.46   \n",
       "Benefícios da Mentoria                                      0.36   \n",
       "Meta Melhora o Progresso                                    0.33   \n",
       "Variedade Melhora a Experiência                             0.33   \n",
       "Satisfação com o Produto                                    1.00   \n",
       "Percepção da Experiência com o Produto                      0.76   \n",
       "Indicaria o Produto                                         0.66   \n",
       "\n",
       "                                        Percepção da Experiência com o Produto  \\\n",
       "Frequência no Consumo                                                     0.39   \n",
       "Benefícios da Mentoria                                                    0.33   \n",
       "Meta Melhora o Progresso                                                  0.34   \n",
       "Variedade Melhora a Experiência                                           0.39   \n",
       "Satisfação com o Produto                                                  0.76   \n",
       "Percepção da Experiência com o Produto                                    1.00   \n",
       "Indicaria o Produto                                                       0.77   \n",
       "\n",
       "                                        Indicaria o Produto  \n",
       "Frequência no Consumo                                  0.35  \n",
       "Benefícios da Mentoria                                 0.37  \n",
       "Meta Melhora o Progresso                               0.35  \n",
       "Variedade Melhora a Experiência                        0.48  \n",
       "Satisfação com o Produto                               0.66  \n",
       "Percepção da Experiência com o Produto                 0.77  \n",
       "Indicaria o Produto                                    1.00  "
      ]
     },
     "execution_count": 12,
     "metadata": {},
     "output_type": "execute_result"
    }
   ],
   "source": [
    "quanty = df.select_dtypes(exclude=[object])\n",
    "quanty.corr().round(2)"
   ]
  },
  {
   "cell_type": "code",
   "execution_count": null,
   "id": "6aa35b37",
   "metadata": {},
   "outputs": [],
   "source": []
  }
 ],
 "metadata": {
  "kernelspec": {
   "display_name": "Python 3 (ipykernel)",
   "language": "python",
   "name": "python3"
  },
  "language_info": {
   "codemirror_mode": {
    "name": "ipython",
    "version": 3
   },
   "file_extension": ".py",
   "mimetype": "text/x-python",
   "name": "python",
   "nbconvert_exporter": "python",
   "pygments_lexer": "ipython3",
   "version": "3.11.5"
  }
 },
 "nbformat": 4,
 "nbformat_minor": 5
}
