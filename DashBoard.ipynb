{
 "cells": [
  {
   "cell_type": "code",
   "execution_count": 1,
   "id": "44fc6db7",
   "metadata": {},
   "outputs": [],
   "source": [
    "import pandas as pd\n",
    "import plotly.express as px\n",
    "from dash import Dash\n",
    "from dash import html\n",
    "from dash import dcc"
   ]
  },
  {
   "cell_type": "code",
   "execution_count": 2,
   "id": "1717a148",
   "metadata": {},
   "outputs": [],
   "source": [
    "df = pd.read_csv('Dados_Tratados.csv')"
   ]
  },
  {
   "cell_type": "code",
   "execution_count": 3,
   "id": "19c27c96",
   "metadata": {},
   "outputs": [
    {
     "data": {
      "text/plain": [
       "Index(['Gênero', 'Idade', 'Escolaridade', 'Estado Civil', 'Renda',\n",
       "       'Frequência no Consumo', 'Benefícios da Mentoria',\n",
       "       'Meta Melhora o Progresso', 'Variedade Melhora a Experiência',\n",
       "       'Primeira Compra', 'Formato do Infoproduto', 'Área mais Consumida',\n",
       "       'Satisfação com o Produto', 'Disposição Financeira',\n",
       "       'Influência na Compra', 'Primeiro Contato', 'Motivação para Compra',\n",
       "       'Percepção da Experiência com o Produto', 'Indicaria o Produto'],\n",
       "      dtype='object')"
      ]
     },
     "execution_count": 3,
     "metadata": {},
     "output_type": "execute_result"
    }
   ],
   "source": [
    "df.columns"
   ]
  },
  {
   "cell_type": "code",
   "execution_count": 4,
   "id": "253c8597",
   "metadata": {},
   "outputs": [
    {
     "data": {
      "text/html": [
       "\n",
       "        <iframe\n",
       "            width=\"100%\"\n",
       "            height=\"650\"\n",
       "            src=\"http://127.0.0.1:8050/\"\n",
       "            frameborder=\"0\"\n",
       "            allowfullscreen\n",
       "            \n",
       "        ></iframe>\n",
       "        "
      ],
      "text/plain": [
       "<IPython.lib.display.IFrame at 0x1b2ed9201d0>"
      ]
     },
     "metadata": {},
     "output_type": "display_data"
    }
   ],
   "source": [
    "app = Dash(__name__)\n",
    "\n",
    "fig_one = px.bar(df, x=\"Área mais Consumida\", y=\"Frequência no Consumo\", color=\"Disposição Financeira\", barmode=\"group\")\n",
    "\n",
    "fig_two = px.box(df, x=\"Área mais Consumida\", y=\"Frequência no Consumo\", color=\"Disposição Financeira\")\n",
    "\n",
    "fig_tree = px.violin(df, x=\"Área mais Consumida\", y=\"Frequência no Consumo\", color=\"Disposição Financeira\")\n",
    "\n",
    "fig_for = px.scatter(df, x=\"Área mais Consumida\", y=\"Frequência no Consumo\", color=\"Disposição Financeira\")\n",
    "\n",
    "fig_five = px.area(df, x=\"Área mais Consumida\", y=\"Frequência no Consumo\", color=\"Disposição Financeira\")\n",
    "\n",
    "fig_six = px.line(df, x=\"Área mais Consumida\", y=\"Frequência no Consumo\", color=\"Disposição Financeira\")\n",
    "\n",
    "app.layout = html.Div(children=[\n",
    "    html.H1(children='Hello Dash'),\n",
    "\n",
    "    html.Div(children='''\n",
    "        Dash: A web application framework for your data.\n",
    "    '''),\n",
    "    \n",
    "     dcc.Graph(\n",
    "        id='one',\n",
    "        figure=fig_one\n",
    "    ),\n",
    "\n",
    "    dcc.Graph(\n",
    "        id='two',\n",
    "        figure=fig_two\n",
    "    ),\n",
    "    \n",
    "    dcc.Graph(\n",
    "        id='tree',\n",
    "        figure=fig_tree\n",
    "    ),\n",
    "        \n",
    "     dcc.Graph(\n",
    "        id='for',\n",
    "        figure=fig_for\n",
    "    ),\n",
    "    \n",
    "     dcc.Graph(\n",
    "        id='five',\n",
    "        figure=fig_five\n",
    "    ),\n",
    "    \n",
    "     dcc.Graph(\n",
    "        id='six',\n",
    "        figure=fig_six\n",
    "    )\n",
    "])\n",
    "\n",
    "if __name__ == '__main__':\n",
    "    app.run(debug=True)"
   ]
  },
  {
   "cell_type": "code",
   "execution_count": null,
   "id": "ce06d506",
   "metadata": {},
   "outputs": [],
   "source": []
  },
  {
   "cell_type": "code",
   "execution_count": null,
   "id": "d8cbc5a9",
   "metadata": {},
   "outputs": [],
   "source": []
  }
 ],
 "metadata": {
  "kernelspec": {
   "display_name": "Python 3 (ipykernel)",
   "language": "python",
   "name": "python3"
  },
  "language_info": {
   "codemirror_mode": {
    "name": "ipython",
    "version": 3
   },
   "file_extension": ".py",
   "mimetype": "text/x-python",
   "name": "python",
   "nbconvert_exporter": "python",
   "pygments_lexer": "ipython3",
   "version": "3.11.5"
  }
 },
 "nbformat": 4,
 "nbformat_minor": 5
}
