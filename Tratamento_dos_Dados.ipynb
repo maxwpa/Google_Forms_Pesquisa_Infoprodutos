{
 "cells": [
  {
   "cell_type": "code",
   "execution_count": 1,
   "id": "7ac81081",
   "metadata": {},
   "outputs": [],
   "source": [
    "import pandas as pd"
   ]
  },
  {
   "cell_type": "code",
   "execution_count": 2,
   "id": "55a9fb5d",
   "metadata": {},
   "outputs": [],
   "source": [
    "df = pd.read_excel('Pesquisa Infoprodutos.xlsx')"
   ]
  },
  {
   "cell_type": "code",
   "execution_count": 3,
   "id": "36344909",
   "metadata": {},
   "outputs": [
    {
     "data": {
      "text/plain": [
       "Index(['Carimbo de data/hora', '01- Gênero', '02- Idade',\n",
       "       '03 - Qual é o seu nível de escolaridade mais alto?',\n",
       "       '04- Estado Civil', '05- Qual é a sua renda individual mensal?  ',\n",
       "       '06- Com qual frequência você consume produtos digitais\\n(e-books, cursos online, webinars, etc.)?',\n",
       "       '07- Um curso com mentoria melhora a experiência e a utilização do infoproduto?',\n",
       "       '08 - Cursos com meta trazem a sensação de progresso e isso diminui a chance de abandonar o curso.',\n",
       "       '09 - Disponibilizar um infoproduto em uma variedade de formatos, como eBooks, vídeos, podcasts ou cursos, contribuiria para a melhoria da experiência do usuário.',\n",
       "       '10- Sua primeira compra foi:',\n",
       "       '11- Quais formatos de infoprodutos você mais consome?',\n",
       "       ' 12- Qual a área do infoprodutos que você mais consome?  ',\n",
       "       '13- Quais os motivos que te levaram a comprar?  (Marque todas as opções que se aplicam)   ',\n",
       "       '14- Quão satisfeito você ficou com o retorno obtido com a compra de infoprodutos?   ',\n",
       "       '15- Qual é o valor máximo que você estaria disposto a pagar por um infoproduto?',\n",
       "       '16- Qual a sua percepção após a experiência adquirida com o produto?',\n",
       "       '17- Eu definitivamente indicaria esse produto a alguém.',\n",
       "       '18- O que mais influencia na sua decisão de comprar um infoproduto?',\n",
       "       '19- Como você conheceu o infoproduto adquirido?',\n",
       "       'Você está de acordo com a participação ?',\n",
       "       'Mudar de Carreira (aprender uma nova profissão)', 'Ganhos financeiros',\n",
       "       'Aquisição de conhecimento específico',\n",
       "       'Solução para um problema específico',\n",
       "       'Facilidade de aprendizado online',\n",
       "       'Flexibilidade de horário de estudo', 'Indicação de colegas ou amigos',\n",
       "       'Preparação para exames, concursos ou certificações',\n",
       "       'Empreendedorismo ou criação de negócio próprio',\n",
       "       'Desenvolvimento de habilidades técnicas',\n",
       "       'Realização de objetivos de vida',\n",
       "       '13- Qual foi o principal motivo que te levou a comprar um infoproduto? ',\n",
       "       '16-  Qual a sua percepção após a experiência adquirida com o produto?',\n",
       "       '17- Eu definitivamente indicaria esse produto a alguém',\n",
       "       '12- A seguir, temos um conjunto de motivos relacionados a comprar infoprodutos. Em uma escala de 1 a 5, em que 1 significa discordo totalmente e 5, concordo totalmente, indique seu grau de concordância com cada um desse motivos para comprar infoprodutos',\n",
       "       ' [Linha 1]'],\n",
       "      dtype='object')"
      ]
     },
     "execution_count": 3,
     "metadata": {},
     "output_type": "execute_result"
    }
   ],
   "source": [
    "df.columns"
   ]
  },
  {
   "cell_type": "code",
   "execution_count": 4,
   "id": "5ebdd475",
   "metadata": {},
   "outputs": [],
   "source": [
    "df.drop('Carimbo de data/hora', axis=1, inplace=True)\n",
    "df.drop('Você está de acordo com a participação ?', axis=1, inplace=True)"
   ]
  },
  {
   "cell_type": "code",
   "execution_count": 5,
   "id": "6d5521d7",
   "metadata": {},
   "outputs": [
    {
     "name": "stdout",
     "output_type": "stream",
     "text": [
      "<class 'pandas.core.frame.DataFrame'>\n",
      "RangeIndex: 151 entries, 0 to 150\n",
      "Data columns (total 35 columns):\n",
      " #   Column                                                                                                                                                                                                                                                         Non-Null Count  Dtype  \n",
      "---  ------                                                                                                                                                                                                                                                         --------------  -----  \n",
      " 0   01- Gênero                                                                                                                                                                                                                                                     151 non-null    object \n",
      " 1   02- Idade                                                                                                                                                                                                                                                      151 non-null    object \n",
      " 2   03 - Qual é o seu nível de escolaridade mais alto?                                                                                                                                                                                                             151 non-null    object \n",
      " 3   04- Estado Civil                                                                                                                                                                                                                                               151 non-null    object \n",
      " 4   05- Qual é a sua renda individual mensal?                                                                                                                                                                                                                      151 non-null    object \n",
      " 5   06- Com qual frequência você consume produtos digitais\n",
      "(e-books, cursos online, webinars, etc.)?                                                                                                                                                               151 non-null    int64  \n",
      " 6   07- Um curso com mentoria melhora a experiência e a utilização do infoproduto?                                                                                                                                                                                 151 non-null    int64  \n",
      " 7   08 - Cursos com meta trazem a sensação de progresso e isso diminui a chance de abandonar o curso.                                                                                                                                                              151 non-null    int64  \n",
      " 8   09 - Disponibilizar um infoproduto em uma variedade de formatos, como eBooks, vídeos, podcasts ou cursos, contribuiria para a melhoria da experiência do usuário.                                                                                              151 non-null    int64  \n",
      " 9   10- Sua primeira compra foi:                                                                                                                                                                                                                                   151 non-null    object \n",
      " 10  11- Quais formatos de infoprodutos você mais consome?                                                                                                                                                                                                          151 non-null    object \n",
      " 11   12- Qual a área do infoprodutos que você mais consome?                                                                                                                                                                                                        151 non-null    object \n",
      " 12  13- Quais os motivos que te levaram a comprar?  (Marque todas as opções que se aplicam)                                                                                                                                                                        0 non-null      float64\n",
      " 13  14- Quão satisfeito você ficou com o retorno obtido com a compra de infoprodutos?                                                                                                                                                                              151 non-null    int64  \n",
      " 14  15- Qual é o valor máximo que você estaria disposto a pagar por um infoproduto?                                                                                                                                                                                151 non-null    object \n",
      " 15  16- Qual a sua percepção após a experiência adquirida com o produto?                                                                                                                                                                                           0 non-null      float64\n",
      " 16  17- Eu definitivamente indicaria esse produto a alguém.                                                                                                                                                                                                        0 non-null      float64\n",
      " 17  18- O que mais influencia na sua decisão de comprar um infoproduto?                                                                                                                                                                                            151 non-null    object \n",
      " 18  19- Como você conheceu o infoproduto adquirido?                                                                                                                                                                                                                151 non-null    object \n",
      " 19  Mudar de Carreira (aprender uma nova profissão)                                                                                                                                                                                                                0 non-null      float64\n",
      " 20  Ganhos financeiros                                                                                                                                                                                                                                             0 non-null      float64\n",
      " 21  Aquisição de conhecimento específico                                                                                                                                                                                                                           0 non-null      float64\n",
      " 22  Solução para um problema específico                                                                                                                                                                                                                            0 non-null      float64\n",
      " 23  Facilidade de aprendizado online                                                                                                                                                                                                                               0 non-null      float64\n",
      " 24  Flexibilidade de horário de estudo                                                                                                                                                                                                                             0 non-null      float64\n",
      " 25  Indicação de colegas ou amigos                                                                                                                                                                                                                                 0 non-null      float64\n",
      " 26  Preparação para exames, concursos ou certificações                                                                                                                                                                                                             0 non-null      float64\n",
      " 27  Empreendedorismo ou criação de negócio próprio                                                                                                                                                                                                                 0 non-null      float64\n",
      " 28  Desenvolvimento de habilidades técnicas                                                                                                                                                                                                                        0 non-null      float64\n",
      " 29  Realização de objetivos de vida                                                                                                                                                                                                                                0 non-null      float64\n",
      " 30  13- Qual foi o principal motivo que te levou a comprar um infoproduto?                                                                                                                                                                                         151 non-null    object \n",
      " 31  16-  Qual a sua percepção após a experiência adquirida com o produto?                                                                                                                                                                                          151 non-null    int64  \n",
      " 32  17- Eu definitivamente indicaria esse produto a alguém                                                                                                                                                                                                         151 non-null    int64  \n",
      " 33  12- A seguir, temos um conjunto de motivos relacionados a comprar infoprodutos. Em uma escala de 1 a 5, em que 1 significa discordo totalmente e 5, concordo totalmente, indique seu grau de concordância com cada um desse motivos para comprar infoprodutos  0 non-null      float64\n",
      " 34   [Linha 1]                                                                                                                                                                                                                                                     0 non-null      float64\n",
      "dtypes: float64(16), int64(7), object(12)\n",
      "memory usage: 41.4+ KB\n"
     ]
    }
   ],
   "source": [
    "df.info()"
   ]
  },
  {
   "cell_type": "code",
   "execution_count": 6,
   "id": "3a4b5c11",
   "metadata": {},
   "outputs": [],
   "source": [
    "df.dropna(axis=1, how='all', inplace=True)"
   ]
  },
  {
   "cell_type": "code",
   "execution_count": 7,
   "id": "3f196b53",
   "metadata": {},
   "outputs": [],
   "source": [
    "newname = {'01- Gênero': 'Gênero', \n",
    "           '02- Idade': 'Idade', \n",
    "           '03 - Qual é o seu nível de escolaridade mais alto?': 'Escolaridade', \n",
    "           '04- Estado Civil': 'Estado Civil', \n",
    "           '05- Qual é a sua renda individual mensal?  ': 'Renda', \n",
    "           '06- Com qual frequência você consume produtos digitais\\n(e-books, cursos online, webinars, etc.)?': 'Frequência no Consumo', \n",
    "           '07- Um curso com mentoria melhora a experiência e a utilização do infoproduto?': 'Benefícios da Mentoria', \n",
    "           '08 - Cursos com meta trazem a sensação de progresso e isso diminui a chance de abandonar o curso.': 'Meta Melhora o Progresso', \n",
    "           '09 - Disponibilizar um infoproduto em uma variedade de formatos, como eBooks, vídeos, podcasts ou cursos, contribuiria para a melhoria da experiência do usuário.': 'Variedade Melhora a Experiência' ,\n",
    "           '10- Sua primeira compra foi:': 'Primeira Compra',\n",
    "           '11- Quais formatos de infoprodutos você mais consome?': 'Formato do Infoproduto', \n",
    "           ' 12- Qual a área do infoprodutos que você mais consome?  ': 'Área mais Consumida', \n",
    "           '14- Quão satisfeito você ficou com o retorno obtido com a compra de infoprodutos?   ': 'Satisfação com o Produto', \n",
    "           '15- Qual é o valor máximo que você estaria disposto a pagar por um infoproduto?': 'Disposição Financeira', \n",
    "           '18- O que mais influencia na sua decisão de comprar um infoproduto?': 'Influência na Compra', \n",
    "           '19- Como você conheceu o infoproduto adquirido?': 'Primeiro Contato', \n",
    "           '13- Qual foi o principal motivo que te levou a comprar um infoproduto? ': \"Motivação para Compra\", \n",
    "           '16-  Qual a sua percepção após a experiência adquirida com o produto?': 'Percepção da Experiência com o Produto', \n",
    "           '17- Eu definitivamente indicaria esse produto a alguém': 'Indicaria o Produto'}"
   ]
  },
  {
   "cell_type": "code",
   "execution_count": 8,
   "id": "3af23c8d",
   "metadata": {},
   "outputs": [],
   "source": [
    "df.rename(columns=newname, inplace=True)"
   ]
  },
  {
   "cell_type": "code",
   "execution_count": 9,
   "id": "276b0016",
   "metadata": {},
   "outputs": [
    {
     "data": {
      "text/plain": [
       "Index(['Gênero', 'Idade', 'Escolaridade', 'Estado Civil', 'Renda',\n",
       "       'Frequência no Consumo', 'Benefícios da Mentoria',\n",
       "       'Meta Melhora o Progresso', 'Variedade Melhora a Experiência',\n",
       "       'Primeira Compra', 'Formato do Infoproduto', 'Área mais Consumida',\n",
       "       'Satisfação com o Produto', 'Disposição Financeira',\n",
       "       'Influência na Compra', 'Primeiro Contato', 'Motivação para Compra',\n",
       "       'Percepção da Experiência com o Produto', 'Indicaria o Produto'],\n",
       "      dtype='object')"
      ]
     },
     "execution_count": 9,
     "metadata": {},
     "output_type": "execute_result"
    }
   ],
   "source": [
    "df.columns"
   ]
  },
  {
   "cell_type": "code",
   "execution_count": 10,
   "id": "db7b731f",
   "metadata": {},
   "outputs": [
    {
     "data": {
      "text/plain": [
       "array(['25-34 anos', '18-24 anos', '35-44 anos', '45 anos ou mais',\n",
       "       'Menos de 18 anos'], dtype=object)"
      ]
     },
     "execution_count": 10,
     "metadata": {},
     "output_type": "execute_result"
    }
   ],
   "source": [
    "df['Idade'].unique()"
   ]
  },
  {
   "cell_type": "code",
   "execution_count": 11,
   "id": "51c38213",
   "metadata": {},
   "outputs": [],
   "source": [
    "df = df.query(\"`Idade` != 'Menos de 18 anos'\")"
   ]
  },
  {
   "cell_type": "code",
   "execution_count": 12,
   "id": "d6f1a9e3",
   "metadata": {},
   "outputs": [
    {
     "name": "stdout",
     "output_type": "stream",
     "text": [
      "<class 'pandas.core.frame.DataFrame'>\n",
      "Index: 150 entries, 0 to 150\n",
      "Data columns (total 19 columns):\n",
      " #   Column                                  Non-Null Count  Dtype \n",
      "---  ------                                  --------------  ----- \n",
      " 0   Gênero                                  150 non-null    object\n",
      " 1   Idade                                   150 non-null    object\n",
      " 2   Escolaridade                            150 non-null    object\n",
      " 3   Estado Civil                            150 non-null    object\n",
      " 4   Renda                                   150 non-null    object\n",
      " 5   Frequência no Consumo                   150 non-null    int64 \n",
      " 6   Benefícios da Mentoria                  150 non-null    int64 \n",
      " 7   Meta Melhora o Progresso                150 non-null    int64 \n",
      " 8   Variedade Melhora a Experiência         150 non-null    int64 \n",
      " 9   Primeira Compra                         150 non-null    object\n",
      " 10  Formato do Infoproduto                  150 non-null    object\n",
      " 11  Área mais Consumida                     150 non-null    object\n",
      " 12  Satisfação com o Produto                150 non-null    int64 \n",
      " 13  Disposição Financeira                   150 non-null    object\n",
      " 14  Influência na Compra                    150 non-null    object\n",
      " 15  Primeiro Contato                        150 non-null    object\n",
      " 16  Motivação para Compra                   150 non-null    object\n",
      " 17  Percepção da Experiência com o Produto  150 non-null    int64 \n",
      " 18  Indicaria o Produto                     150 non-null    int64 \n",
      "dtypes: int64(7), object(12)\n",
      "memory usage: 23.4+ KB\n"
     ]
    },
    {
     "data": {
      "text/plain": [
       "None"
      ]
     },
     "metadata": {},
     "output_type": "display_data"
    }
   ],
   "source": [
    "display(df.info())"
   ]
  },
  {
   "cell_type": "code",
   "execution_count": 31,
   "id": "e7e39cb8",
   "metadata": {
    "scrolled": true
   },
   "outputs": [
    {
     "data": {
      "text/html": [
       "<div>\n",
       "<style scoped>\n",
       "    .dataframe tbody tr th:only-of-type {\n",
       "        vertical-align: middle;\n",
       "    }\n",
       "\n",
       "    .dataframe tbody tr th {\n",
       "        vertical-align: top;\n",
       "    }\n",
       "\n",
       "    .dataframe thead th {\n",
       "        text-align: right;\n",
       "    }\n",
       "</style>\n",
       "<table border=\"1\" class=\"dataframe\">\n",
       "  <thead>\n",
       "    <tr style=\"text-align: right;\">\n",
       "      <th></th>\n",
       "      <th>Gênero</th>\n",
       "      <th>Idade</th>\n",
       "      <th>Escolaridade</th>\n",
       "      <th>Estado Civil</th>\n",
       "      <th>Renda</th>\n",
       "      <th>Frequência no Consumo</th>\n",
       "      <th>Benefícios da Mentoria</th>\n",
       "      <th>Meta Melhora o Progresso</th>\n",
       "      <th>Variedade Melhora a Experiência</th>\n",
       "      <th>Primeira Compra</th>\n",
       "      <th>Formato do Infoproduto</th>\n",
       "      <th>Área mais Consumida</th>\n",
       "      <th>Satisfação com o Produto</th>\n",
       "      <th>Disposição Financeira</th>\n",
       "      <th>Influência na Compra</th>\n",
       "      <th>Primeiro Contato</th>\n",
       "      <th>Motivação para Compra</th>\n",
       "      <th>Percepção da Experiência com o Produto</th>\n",
       "      <th>Indicaria o Produto</th>\n",
       "    </tr>\n",
       "  </thead>\n",
       "  <tbody>\n",
       "    <tr>\n",
       "      <th>0</th>\n",
       "      <td>Feminino</td>\n",
       "      <td>25-34 anos</td>\n",
       "      <td>Ensino Superior</td>\n",
       "      <td>Solteiro(a)</td>\n",
       "      <td>R$ 1.212 - R$ 3.636</td>\n",
       "      <td>3</td>\n",
       "      <td>4</td>\n",
       "      <td>4</td>\n",
       "      <td>4</td>\n",
       "      <td>Antes da pandemia</td>\n",
       "      <td>Imagem</td>\n",
       "      <td>Educação</td>\n",
       "      <td>3</td>\n",
       "      <td>Entre R$ 50,00 e R$ 100,00.</td>\n",
       "      <td>Preço</td>\n",
       "      <td>Recomendação</td>\n",
       "      <td>Realização de objetivos de vida</td>\n",
       "      <td>3</td>\n",
       "      <td>4</td>\n",
       "    </tr>\n",
       "    <tr>\n",
       "      <th>1</th>\n",
       "      <td>Feminino</td>\n",
       "      <td>18-24 anos</td>\n",
       "      <td>Ensino Superior</td>\n",
       "      <td>Solteiro(a)</td>\n",
       "      <td>R$ 1.212 - R$ 3.636</td>\n",
       "      <td>3</td>\n",
       "      <td>1</td>\n",
       "      <td>4</td>\n",
       "      <td>5</td>\n",
       "      <td>Antes da pandemia</td>\n",
       "      <td>Vídeo</td>\n",
       "      <td>Finanças</td>\n",
       "      <td>3</td>\n",
       "      <td>Acima de R$ 200,00</td>\n",
       "      <td>Tema e Relavância</td>\n",
       "      <td>Redes Sociais</td>\n",
       "      <td>Facilidade de aprendizado online</td>\n",
       "      <td>4</td>\n",
       "      <td>4</td>\n",
       "    </tr>\n",
       "    <tr>\n",
       "      <th>2</th>\n",
       "      <td>Feminino</td>\n",
       "      <td>25-34 anos</td>\n",
       "      <td>Ensino Superior</td>\n",
       "      <td>Solteiro(a)</td>\n",
       "      <td>R$ 3.636 - R$ 6.000</td>\n",
       "      <td>5</td>\n",
       "      <td>5</td>\n",
       "      <td>5</td>\n",
       "      <td>5</td>\n",
       "      <td>Antes da pandemia</td>\n",
       "      <td>Vídeo</td>\n",
       "      <td>Educação</td>\n",
       "      <td>4</td>\n",
       "      <td>Entre R$ 100,00 e R$ 200,00</td>\n",
       "      <td>Conteúdo Gratis</td>\n",
       "      <td>Redes Sociais</td>\n",
       "      <td>Aquisição de conhecimento específico</td>\n",
       "      <td>4</td>\n",
       "      <td>4</td>\n",
       "    </tr>\n",
       "    <tr>\n",
       "      <th>3</th>\n",
       "      <td>Masculino</td>\n",
       "      <td>18-24 anos</td>\n",
       "      <td>Ensino Médio</td>\n",
       "      <td>Solteiro(a)</td>\n",
       "      <td>R$ 1.212 - R$ 3.636</td>\n",
       "      <td>4</td>\n",
       "      <td>4</td>\n",
       "      <td>4</td>\n",
       "      <td>2</td>\n",
       "      <td>Depois da pandemia</td>\n",
       "      <td>Vídeo</td>\n",
       "      <td>Desenvolvimento Pessoal</td>\n",
       "      <td>4</td>\n",
       "      <td>Acima de R$ 200,00</td>\n",
       "      <td>Avaliação</td>\n",
       "      <td>Redes Sociais</td>\n",
       "      <td>Preparação para exames, concursos ou certifica...</td>\n",
       "      <td>3</td>\n",
       "      <td>3</td>\n",
       "    </tr>\n",
       "    <tr>\n",
       "      <th>4</th>\n",
       "      <td>Feminino</td>\n",
       "      <td>18-24 anos</td>\n",
       "      <td>Ensino Médio</td>\n",
       "      <td>Solteiro(a)</td>\n",
       "      <td>Até R$ 1.212</td>\n",
       "      <td>5</td>\n",
       "      <td>5</td>\n",
       "      <td>5</td>\n",
       "      <td>5</td>\n",
       "      <td>Antes da pandemia</td>\n",
       "      <td>Áudio</td>\n",
       "      <td>Desenvolvimento Pessoal</td>\n",
       "      <td>4</td>\n",
       "      <td>Entre R$ 100,00 e R$ 200,00</td>\n",
       "      <td>Conteúdo Gratis</td>\n",
       "      <td>Redes Sociais</td>\n",
       "      <td>Aquisição de conhecimento específico</td>\n",
       "      <td>4</td>\n",
       "      <td>5</td>\n",
       "    </tr>\n",
       "  </tbody>\n",
       "</table>\n",
       "</div>"
      ],
      "text/plain": [
       "      Gênero       Idade     Escolaridade Estado Civil                Renda  \\\n",
       "0   Feminino  25-34 anos  Ensino Superior  Solteiro(a)  R$ 1.212 - R$ 3.636   \n",
       "1   Feminino  18-24 anos  Ensino Superior  Solteiro(a)  R$ 1.212 - R$ 3.636   \n",
       "2   Feminino  25-34 anos  Ensino Superior  Solteiro(a)  R$ 3.636 - R$ 6.000   \n",
       "3  Masculino  18-24 anos     Ensino Médio  Solteiro(a)  R$ 1.212 - R$ 3.636   \n",
       "4   Feminino  18-24 anos     Ensino Médio  Solteiro(a)         Até R$ 1.212   \n",
       "\n",
       "   Frequência no Consumo  Benefícios da Mentoria  Meta Melhora o Progresso  \\\n",
       "0                      3                       4                         4   \n",
       "1                      3                       1                         4   \n",
       "2                      5                       5                         5   \n",
       "3                      4                       4                         4   \n",
       "4                      5                       5                         5   \n",
       "\n",
       "   Variedade Melhora a Experiência     Primeira Compra Formato do Infoproduto  \\\n",
       "0                                4   Antes da pandemia                 Imagem   \n",
       "1                                5   Antes da pandemia                  Vídeo   \n",
       "2                                5   Antes da pandemia                  Vídeo   \n",
       "3                                2  Depois da pandemia                  Vídeo   \n",
       "4                                5   Antes da pandemia                  Áudio   \n",
       "\n",
       "       Área mais Consumida  Satisfação com o Produto  \\\n",
       "0                 Educação                         3   \n",
       "1                 Finanças                         3   \n",
       "2                 Educação                         4   \n",
       "3  Desenvolvimento Pessoal                         4   \n",
       "4  Desenvolvimento Pessoal                         4   \n",
       "\n",
       "         Disposição Financeira Influência na Compra Primeiro Contato  \\\n",
       "0  Entre R$ 50,00 e R$ 100,00.                Preço     Recomendação   \n",
       "1           Acima de R$ 200,00    Tema e Relavância    Redes Sociais   \n",
       "2  Entre R$ 100,00 e R$ 200,00      Conteúdo Gratis    Redes Sociais   \n",
       "3           Acima de R$ 200,00            Avaliação    Redes Sociais   \n",
       "4  Entre R$ 100,00 e R$ 200,00      Conteúdo Gratis    Redes Sociais   \n",
       "\n",
       "                               Motivação para Compra  \\\n",
       "0                    Realização de objetivos de vida   \n",
       "1                   Facilidade de aprendizado online   \n",
       "2               Aquisição de conhecimento específico   \n",
       "3  Preparação para exames, concursos ou certifica...   \n",
       "4               Aquisição de conhecimento específico   \n",
       "\n",
       "   Percepção da Experiência com o Produto  Indicaria o Produto  \n",
       "0                                       3                    4  \n",
       "1                                       4                    4  \n",
       "2                                       4                    4  \n",
       "3                                       3                    3  \n",
       "4                                       4                    5  "
      ]
     },
     "metadata": {},
     "output_type": "display_data"
    }
   ],
   "source": [
    "display(df.head())"
   ]
  },
  {
   "cell_type": "code",
   "execution_count": 15,
   "id": "063818a5",
   "metadata": {},
   "outputs": [
    {
     "data": {
      "text/plain": [
       "array(['Acima de R$ 1.212 até R$ 3.636,00',\n",
       "       'Acima de R$ 3.636,00 até R$ 6.000', 'Até R$ 1.212,00',\n",
       "       'Acima de R$ 6.000'], dtype=object)"
      ]
     },
     "execution_count": 15,
     "metadata": {},
     "output_type": "execute_result"
    }
   ],
   "source": [
    "df['Renda'].unique()"
   ]
  },
  {
   "cell_type": "code",
   "execution_count": 19,
   "id": "026bc223",
   "metadata": {},
   "outputs": [],
   "source": [
    "renda = {\n",
    "    'Acima de R$ 1.212 até R$ 3.636,00': 'R$ 1.212 - R$ 3.636',\n",
    "    'Acima de R$ 3.636,00 até R$ 6.000': 'R$ 3.636 - R$ 6.000',\n",
    "    'Até R$ 1.212,00': 'Até R$ 1.212',\n",
    "    'Acima de R$ 6.000': 'Acima de R$ 6.000'}\n",
    "\n",
    "df['Renda'] = df['Renda'].replace(renda)"
   ]
  },
  {
   "cell_type": "code",
   "execution_count": 21,
   "id": "f1266a79",
   "metadata": {
    "scrolled": true
   },
   "outputs": [
    {
     "data": {
      "text/plain": [
       "array(['Visual: Infográficos, figuras, página de vendas, site, Template e planilha',\n",
       "       'Vídeo: Vídeo aulas, mentorias, screencasts , cursos e lives, Videocast , filmes ou documentários',\n",
       "       'Áudio: Áudiobook e podcast', 'Texto: PDF e E-book'], dtype=object)"
      ]
     },
     "execution_count": 21,
     "metadata": {},
     "output_type": "execute_result"
    }
   ],
   "source": [
    "df['Formato do Infoproduto'].unique()"
   ]
  },
  {
   "cell_type": "code",
   "execution_count": 23,
   "id": "c0751dfd",
   "metadata": {},
   "outputs": [],
   "source": [
    "formato = {'Visual: Infográficos, figuras, página de vendas, site, Template e planilha' : 'Imagem',\n",
    "          'Vídeo: Vídeo aulas, mentorias, screencasts , cursos e lives, Videocast , filmes ou documentários': 'Vídeo',\n",
    "          'Áudio: Áudiobook e podcast': 'Áudio',\n",
    "          'Texto: PDF e E-book': 'Texto'}\n",
    "\n",
    "df['Formato do Infoproduto'] = df['Formato do Infoproduto'].replace(formato)"
   ]
  },
  {
   "cell_type": "code",
   "execution_count": 25,
   "id": "1f644a14",
   "metadata": {
    "scrolled": true
   },
   "outputs": [
    {
     "data": {
      "text/plain": [
       "array(['Preço', 'Conteúdo do infoproduto (tema/relevância)',\n",
       "       'Conteúdo gratuito oferecido pelo produtor',\n",
       "       'Avaliações e depoimentos de clientes',\n",
       "       'Garantia de devolução do dinheiro',\n",
       "       'Qualidade da apresentação (vídeo, áudio, design, etc.)',\n",
       "       'Recomendações de amigos/familiares'], dtype=object)"
      ]
     },
     "execution_count": 25,
     "metadata": {},
     "output_type": "execute_result"
    }
   ],
   "source": [
    "df['Influência na Compra'].unique()"
   ]
  },
  {
   "cell_type": "code",
   "execution_count": 27,
   "id": "55ef5c7a",
   "metadata": {},
   "outputs": [],
   "source": [
    "influ = {'Preço': 'Preço', 'Conteúdo do infoproduto (tema/relevância)': 'Tema e Relavância',\n",
    "       'Conteúdo gratuito oferecido pelo produtor': 'Conteúdo Gratis',\n",
    "       'Avaliações e depoimentos de clientes': 'Avaliação',\n",
    "       'Garantia de devolução do dinheiro': 'Possibilidade de Devolução',\n",
    "       'Qualidade da apresentação (vídeo, áudio, design, etc.)': 'Qualidade da Apresentação',\n",
    "       'Recomendações de amigos/familiares': 'Recomentadação'}\n",
    "\n",
    "df['Influência na Compra'] = df['Influência na Compra'].replace(influ)"
   ]
  },
  {
   "cell_type": "code",
   "execution_count": 29,
   "id": "b7538dba",
   "metadata": {},
   "outputs": [
    {
     "data": {
      "text/plain": [
       "array(['Recomendação de amigos ou colegas',\n",
       "       'Por meio das redes sociais, como Instagram, TikTok, YouTube ou Twitter',\n",
       "       'Pesquisa em mecanismos de busca, como o Google',\n",
       "       'Por meio de anúncios online, como no Facebook ou Google Ads'],\n",
       "      dtype=object)"
      ]
     },
     "execution_count": 29,
     "metadata": {},
     "output_type": "execute_result"
    }
   ],
   "source": [
    "df['Primeiro Contato'].unique()"
   ]
  },
  {
   "cell_type": "code",
   "execution_count": 30,
   "id": "b44f6a9e",
   "metadata": {},
   "outputs": [],
   "source": [
    "contato = {'Recomendação de amigos ou colegas': 'Recomendação',\n",
    "       'Por meio das redes sociais, como Instagram, TikTok, YouTube ou Twitter': 'Redes Sociais',\n",
    "       'Pesquisa em mecanismos de busca, como o Google': 'Busca na Web',\n",
    "       'Por meio de anúncios online, como no Facebook ou Google Ads': 'Anúncios Online'}\n",
    "\n",
    "df['Primeiro Contato'] = df['Primeiro Contato'].replace(contato)"
   ]
  },
  {
   "cell_type": "code",
   "execution_count": 32,
   "id": "be512ef1",
   "metadata": {},
   "outputs": [
    {
     "data": {
      "text/plain": [
       "array(['Realização de objetivos de vida',\n",
       "       'Facilidade de aprendizado online',\n",
       "       'Aquisição de conhecimento específico',\n",
       "       'Preparação para exames, concursos ou certificações',\n",
       "       'Ganhos financeiros',\n",
       "       'Mudar de Carreira (aprender uma nova profissão)',\n",
       "       'Desenvolvimento de habilidades técnicas',\n",
       "       'Flexibilidade de horário de estudo',\n",
       "       'Indicação de colegas ou amigos',\n",
       "       'Empreendedorismo ou criação de negócio próprio',\n",
       "       'Solução para um problema específico'], dtype=object)"
      ]
     },
     "execution_count": 32,
     "metadata": {},
     "output_type": "execute_result"
    }
   ],
   "source": [
    "df['Motivação para Compra'].unique()"
   ]
  },
  {
   "cell_type": "code",
   "execution_count": null,
   "id": "6776e5f8",
   "metadata": {},
   "outputs": [],
   "source": [
    "motivo = {'Realização de objetivos de vida': 'Realização Pessoal',\n",
    "       'Facilidade de aprendizado online': 'Fácil Aprendizado',\n",
    "       'Aquisição de conhecimento específico': 'Novos Conhecimentos',\n",
    "       'Preparação para exames, concursos ou certificações': 'Certificação e Concursos',\n",
    "       'Ganhos financeiros': 'Ganhos Financeiros',\n",
    "       'Mudar de Carreira (aprender uma nova profissão)': 'Mudar de Carreira',\n",
    "       'Desenvolvimento de habilidades técnicas': 'Desenvolvimento Técnico',\n",
    "       'Flexibilidade de horário de estudo': 'Horários Flexíveis',\n",
    "       'Indicação de colegas ou amigos': 'Indicação',\n",
    "       'Empreendedorismo ou criação de negócio próprio': 'Empreendedorismo',\n",
    "       'Solução para um problema específico': 'Solução de Problemas'}"
   ]
  },
  {
   "cell_type": "code",
   "execution_count": null,
   "id": "48a9b365",
   "metadata": {},
   "outputs": [],
   "source": [
    "df.to_csv('Dados_Tratados.csv', index=False)"
   ]
  }
 ],
 "metadata": {
  "kernelspec": {
   "display_name": "Python 3 (ipykernel)",
   "language": "python",
   "name": "python3"
  },
  "language_info": {
   "codemirror_mode": {
    "name": "ipython",
    "version": 3
   },
   "file_extension": ".py",
   "mimetype": "text/x-python",
   "name": "python",
   "nbconvert_exporter": "python",
   "pygments_lexer": "ipython3",
   "version": "3.11.5"
  }
 },
 "nbformat": 4,
 "nbformat_minor": 5
}
