{
 "cells": [
  {
   "cell_type": "code",
   "execution_count": 16,
   "id": "f0aa69e5",
   "metadata": {},
   "outputs": [],
   "source": [
    "import pandas as pd\n",
    "import plotly.express as px\n",
    "import plotly.io as pio"
   ]
  },
  {
   "cell_type": "code",
   "execution_count": 2,
   "id": "466a6a07",
   "metadata": {},
   "outputs": [],
   "source": [
    "df = pd.read_csv('Dados_Tratados.csv')"
   ]
  },
  {
   "cell_type": "code",
   "execution_count": 3,
   "id": "9beea4bb",
   "metadata": {},
   "outputs": [
    {
     "data": {
      "text/plain": [
       "Index(['Gênero', 'Idade', 'Escolaridade', 'Estado Civil', 'Renda',\n",
       "       'Frequência no Consumo', 'Benefícios da Mentoria',\n",
       "       'Meta Melhora o Progresso', 'Variedade Melhora a Experiência',\n",
       "       'Primeira Compra', 'Formato do Infoproduto', 'Área mais Consumida',\n",
       "       'Satisfação com o Produto', 'Disposição Financeira',\n",
       "       'Influência na Compra', 'Primeiro Contato', 'Motivação para Compra',\n",
       "       'Percepção da Experiência com o Produto', 'Indicaria o Produto'],\n",
       "      dtype='object')"
      ]
     },
     "execution_count": 3,
     "metadata": {},
     "output_type": "execute_result"
    }
   ],
   "source": [
    "df.columns"
   ]
  },
  {
   "cell_type": "code",
   "execution_count": 65,
   "id": "d3a0f8c3",
   "metadata": {
    "scrolled": false
   },
   "outputs": [],
   "source": [
    "gbar = px.bar(df, x=\"Área mais Consumida\", y=\"Frequência no Consumo\",\n",
    "              color=\"Disposição Financeira\", barmode=\"group\",\n",
    "              width=1000, height=500)\n",
    "gbar = gbar.update_layout(\n",
    "    title_text='Relação Entre Frequência, Área e Disposição Financeira Para Consumir Infoprodutos',\n",
    "    title_x=0.5,\n",
    "    title_font=dict(size=22, family=\"Arial, sans-serif\", color=\"black\"))"
   ]
  },
  {
   "cell_type": "code",
   "execution_count": 66,
   "id": "c5bab5da",
   "metadata": {},
   "outputs": [],
   "source": [
    "pio.write_image(gbar, 'gbar.png')"
   ]
  },
  {
   "cell_type": "code",
   "execution_count": null,
   "id": "0ee7999a",
   "metadata": {},
   "outputs": [],
   "source": []
  }
 ],
 "metadata": {
  "kernelspec": {
   "display_name": "Python 3 (ipykernel)",
   "language": "python",
   "name": "python3"
  },
  "language_info": {
   "codemirror_mode": {
    "name": "ipython",
    "version": 3
   },
   "file_extension": ".py",
   "mimetype": "text/x-python",
   "name": "python",
   "nbconvert_exporter": "python",
   "pygments_lexer": "ipython3",
   "version": "3.11.5"
  }
 },
 "nbformat": 4,
 "nbformat_minor": 5
}
