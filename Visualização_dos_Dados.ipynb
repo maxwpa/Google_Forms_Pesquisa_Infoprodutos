{
 "cells": [
  {
   "cell_type": "code",
   "execution_count": 3,
   "id": "f0aa69e5",
   "metadata": {},
   "outputs": [],
   "source": [
    "import pandas as pd\n",
    "import plotly.express as px\n",
    "import plotly.io as pio\n",
    "import altair as alt\n",
    "from io import BytesIO"
   ]
  },
  {
   "cell_type": "code",
   "execution_count": 4,
   "id": "466a6a07",
   "metadata": {},
   "outputs": [],
   "source": [
    "df = pd.read_csv('Dados_Tratados.csv')"
   ]
  },
  {
   "cell_type": "code",
   "execution_count": 3,
   "id": "9beea4bb",
   "metadata": {},
   "outputs": [
    {
     "data": {
      "text/plain": [
       "Index(['Gênero', 'Idade', 'Escolaridade', 'Estado Civil', 'Renda',\n",
       "       'Frequência no Consumo', 'Benefícios da Mentoria',\n",
       "       'Meta Melhora o Progresso', 'Variedade Melhora a Experiência',\n",
       "       'Primeira Compra', 'Formato do Infoproduto', 'Área mais Consumida',\n",
       "       'Satisfação com o Produto', 'Disposição Financeira',\n",
       "       'Influência na Compra', 'Primeiro Contato', 'Motivação para Compra',\n",
       "       'Percepção da Experiência com o Produto', 'Indicaria o Produto'],\n",
       "      dtype='object')"
      ]
     },
     "execution_count": 3,
     "metadata": {},
     "output_type": "execute_result"
    }
   ],
   "source": [
    "df.columns"
   ]
  },
  {
   "cell_type": "code",
   "execution_count": 65,
   "id": "d3a0f8c3",
   "metadata": {
    "scrolled": false
   },
   "outputs": [],
   "source": [
    "gbar = px.bar(df, x=\"Área mais Consumida\", y=\"Frequência no Consumo\",\n",
    "              color=\"Disposição Financeira\", barmode=\"group\",\n",
    "              width=1000, height=500)\n",
    "gbar = gbar.update_layout(\n",
    "    title_text='Relação Entre Frequência, Área e Disposição Financeira Para Consumir Infoprodutos',\n",
    "    title_x=0.5,\n",
    "    title_font=dict(size=22, family=\"Arial, sans-serif\", color=\"black\"))"
   ]
  },
  {
   "cell_type": "code",
   "execution_count": 66,
   "id": "c5bab5da",
   "metadata": {},
   "outputs": [],
   "source": [
    "pio.write_image(gbar, 'gbar.png')"
   ]
  },
  {
   "cell_type": "code",
   "execution_count": null,
   "id": "0ee7999a",
   "metadata": {},
   "outputs": [],
   "source": []
  },
  {
   "cell_type": "code",
   "execution_count": null,
   "id": "08107d1e",
   "metadata": {},
   "outputs": [],
   "source": []
  },
  {
   "cell_type": "code",
   "execution_count": 22,
   "id": "a79d4b5e",
   "metadata": {},
   "outputs": [],
   "source": [
    "df_count = df.groupby(['Escolaridade', 'Frequência no Consumo']).size().reset_index(name='count')\n",
    "\n",
    "# Crie um gráfico de barras usando Altair\n",
    "chart = alt.Chart(df_count).mark_bar().encode(\n",
    "    x='Frequência no Consumo:Q',\n",
    "    y='count:Q',\n",
    "    color='Escolaridade:N',\n",
    "    tooltip=['Escolaridade:N', 'Frequência no Consumo:Q', 'count:Q']\n",
    ")\n",
    "\n",
    "# Salve o gráfico como um arquivo HTML\n",
    "chart.save('chart.html')"
   ]
  },
  {
   "cell_type": "code",
   "execution_count": 24,
   "id": "f93d452f",
   "metadata": {},
   "outputs": [],
   "source": [
    "carr = alt.Chart(df).mark_circle(size=500).encode(\n",
    "    alt.X('Frequência no Consumo:Q'),\n",
    "    alt.Y('Disposição Financeira:N'),\n",
    "    size='count()',\n",
    "    color='count()',\n",
    "    tooltip=['count()']\n",
    ").interactive()\n",
    "\n",
    "# Exiba o gráfico\n",
    "carr.save('carr.html')"
   ]
  },
  {
   "cell_type": "code",
   "execution_count": 59,
   "id": "ec117e37",
   "metadata": {},
   "outputs": [],
   "source": [
    "df_agrupado = df.groupby('Influência na Compra')['Frequência no Consumo'].sum().reset_index()\n",
    "\n",
    "# Calcule as porcentagens\n",
    "df_agrupado['Porcentagem'] = df_agrupado['Frequência no Consumo'] / df_agrupado['Frequência no Consumo'].sum() * 100\n",
    "\n",
    "# Crie um gráfico de pizza/setores usando Altair\n",
    "cizza = alt.Chart(df_agrupado).mark_arc().encode(\n",
    "    alt.Color('Influência na Compra:N', scale=alt.Scale(scheme='category10')),\n",
    "    tooltip=['Influência na Compra:N', 'Frequência no Consumo:Q', 'Porcentagem:Q'],\n",
    "    size='Frequência no Consumo:Q',\n",
    "    theta='Porcentagem:Q'\n",
    ").properties(\n",
    "    width=300,\n",
    "    height=300\n",
    ").interactive()\n",
    "\n",
    "# Adicione rótulos de porcentagem nas fatias\n",
    "labels = alt.Chart(df_agrupado).mark_text(align='center', baseline='middle', fontSize=12).encode(\n",
    "    text='Porcentagem:N',\n",
    "    color=alt.value('black'),\n",
    "    radius=alt.value(150),  # Ajuste a distância dos rótulos do centro\n",
    "    theta='theta:O'  # Use 'theta:O' em vez de 'theta:N'\n",
    ").transform_calculate(\n",
    "    Porcentagem='datum.Porcentagem',\n",
    "    theta='360 * datum.Porcentagem / 100'  # Ajuste o cálculo do ângulo\n",
    ")\n",
    "\n",
    "# Exiba o gráfico com rótulos de porcentagem\n",
    "chart_final = (cizza + labels).configure_view(stroke=None)\n",
    "chart_final.save('cizza.html')"
   ]
  },
  {
   "cell_type": "code",
   "execution_count": null,
   "id": "b8749df6",
   "metadata": {},
   "outputs": [],
   "source": []
  },
  {
   "cell_type": "code",
   "execution_count": null,
   "id": "4abaacba",
   "metadata": {},
   "outputs": [],
   "source": []
  }
 ],
 "metadata": {
  "kernelspec": {
   "display_name": "Python 3 (ipykernel)",
   "language": "python",
   "name": "python3"
  },
  "language_info": {
   "codemirror_mode": {
    "name": "ipython",
    "version": 3
   },
   "file_extension": ".py",
   "mimetype": "text/x-python",
   "name": "python",
   "nbconvert_exporter": "python",
   "pygments_lexer": "ipython3",
   "version": "3.11.5"
  }
 },
 "nbformat": 4,
 "nbformat_minor": 5
}
